{
 "cells": [
  {
   "cell_type": "markdown",
   "id": "11c6f465-6962-459f-8491-ddc808f3e72a",
   "metadata": {
    "jp-MarkdownHeadingCollapsed": true
   },
   "source": [
    "# Tupla"
   ]
  },
  {
   "cell_type": "code",
   "execution_count": null,
   "id": "5bf3902b-c193-4a71-a97d-f6e03627ed63",
   "metadata": {},
   "outputs": [],
   "source": [
    "a = [1,2,3] # lista comum\n",
    "tuple(a)"
   ]
  },
  {
   "cell_type": "code",
   "execution_count": null,
   "id": "1c47f1a2-add1-4dfa-a5df-3d8c6e58d31a",
   "metadata": {},
   "outputs": [],
   "source": [
    "tup = (4,5,6) # tupla comum\n",
    "a, b, c = tup # desempacotamento de tupla\n",
    "print(a) "
   ]
  },
  {
   "cell_type": "code",
   "execution_count": 10,
   "id": "e9098c45-0aa5-43e7-b5b3-d67f28bd97c5",
   "metadata": {},
   "outputs": [
    {
     "name": "stdout",
     "output_type": "stream",
     "text": [
      "a=1, b=2, c=3\n",
      "a=4, b=5, c=6\n",
      "a=7, b=8, c=9\n"
     ]
    }
   ],
   "source": [
    "# desempacotamento para iteração sobre listas\n",
    "seq = [(1,2,3),(4,5,6),(7,8,9)]\n",
    "for a, b, c in seq:\n",
    "    print(f'a={a}, b={b}, c={c}')"
   ]
  },
  {
   "cell_type": "code",
   "execution_count": 15,
   "id": "c53b661e-f23d-44a4-b6a5-8b223fe03c69",
   "metadata": {},
   "outputs": [],
   "source": [
    "values = 1,2,3,4,5\n",
    "# ValueError: too many values to unpack (expected 2)\n",
    "a, b, *rest = values # captura em assinaturas de funções de uma lista arbitrariamente longa de argumentos posicionais"
   ]
  },
  {
   "cell_type": "markdown",
   "id": "15800dfb-0be9-4825-84a1-3176359bf630",
   "metadata": {
    "jp-MarkdownHeadingCollapsed": true
   },
   "source": [
    "# Lista"
   ]
  },
  {
   "cell_type": "code",
   "execution_count": 16,
   "id": "48709e87-f1da-4037-8256-5dd653786378",
   "metadata": {},
   "outputs": [
    {
     "data": {
      "text/plain": [
       "[0, 1, 2, 3, 4, 5, 6, 7, 8, 9]"
      ]
     },
     "execution_count": 16,
     "metadata": {},
     "output_type": "execute_result"
    }
   ],
   "source": [
    "gen = range(0,10)\n",
    "list(gen)"
   ]
  },
  {
   "cell_type": "markdown",
   "id": "9a60c121-5858-49da-a708-df4e5b784946",
   "metadata": {},
   "source": [
    "## Métodos úteis\n",
    "1. append(x)\n",
    "2. extend(iterable)\n",
    "3. insert(i, x)\n",
    "4. remove(x)\n",
    "5. pop([i])\n",
    "6. clear()\n",
    "7. index(x[, start[, end]])\n",
    "8. count(x)\n",
    "9. sort(key=None, reverse=False)\n",
    "10. reverse()\n",
    "11. copy()"
   ]
  },
  {
   "cell_type": "markdown",
   "id": "2581a265-513a-46f6-9c9f-54a464b87d2a",
   "metadata": {},
   "source": [
    "# Dicionário"
   ]
  },
  {
   "cell_type": "code",
   "execution_count": null,
   "id": "311c79fa-3024-4531-9bd5-7ef4f8be931e",
   "metadata": {},
   "outputs": [],
   "source": []
  }
 ],
 "metadata": {
  "kernelspec": {
   "display_name": "Python 3 (ipykernel)",
   "language": "python",
   "name": "python3"
  },
  "language_info": {
   "codemirror_mode": {
    "name": "ipython",
    "version": 3
   },
   "file_extension": ".py",
   "mimetype": "text/x-python",
   "name": "python",
   "nbconvert_exporter": "python",
   "pygments_lexer": "ipython3",
   "version": "3.12.1"
  }
 },
 "nbformat": 4,
 "nbformat_minor": 5
}
